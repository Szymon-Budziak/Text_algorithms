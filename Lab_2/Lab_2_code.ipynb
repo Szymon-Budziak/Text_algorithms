{
 "cells": [
  {
   "cell_type": "markdown",
   "metadata": {},
   "source": [
    "# Trie and Suffix Tree lab"
   ]
  },
  {
   "cell_type": "markdown",
   "metadata": {},
   "source": [
    "## 1. Przyjmij następujący zbiór danych wejściowych:"
   ]
  },
  {
   "cell_type": "markdown",
   "metadata": {},
   "source": [
    "### a) bbb$"
   ]
  },
  {
   "cell_type": "code",
   "execution_count": 1,
   "metadata": {},
   "outputs": [],
   "source": [
    "a = \"bbb$\""
   ]
  },
  {
   "cell_type": "markdown",
   "metadata": {},
   "source": [
    "### b) aabbabd"
   ]
  },
  {
   "cell_type": "code",
   "execution_count": 2,
   "metadata": {},
   "outputs": [],
   "source": [
    "b = \"aabbabd\""
   ]
  },
  {
   "cell_type": "markdown",
   "metadata": {},
   "source": [
    "### c) ababcd"
   ]
  },
  {
   "cell_type": "code",
   "execution_count": 3,
   "metadata": {},
   "outputs": [],
   "source": [
    "c = \"ababcd\""
   ]
  },
  {
   "cell_type": "markdown",
   "metadata": {},
   "source": [
    "### d) abcbccd"
   ]
  },
  {
   "cell_type": "code",
   "execution_count": 4,
   "metadata": {},
   "outputs": [],
   "source": [
    "d = \"abcbccd\""
   ]
  },
  {
   "cell_type": "markdown",
   "metadata": {},
   "source": [
    "### e) załączony plik (1997_714_head.txt)"
   ]
  },
  {
   "cell_type": "code",
   "execution_count": 5,
   "metadata": {},
   "outputs": [],
   "source": [
    "with open(\"1997_714_head.txt\") as file:\n",
    "    e = file.read()\n",
    "e += \"$\""
   ]
  },
  {
   "cell_type": "markdown",
   "metadata": {},
   "source": [
    "---\n",
    "## 2. Upewnij się, że każdy łańcuch na końcu posiada unikalny znak (marker), a jeśli go nie ma, to dodaj ten znak."
   ]
  },
  {
   "cell_type": "markdown",
   "metadata": {},
   "source": [
    "Można zauważyć, że każdy łańcuch oprócz pliku `1997_714_head.txt` zawiera unikalny znak (marker) na końcu. Dlatego dopisałem taki marker na końcu tego pliku."
   ]
  },
  {
   "cell_type": "markdown",
   "metadata": {},
   "source": [
    "---\n",
    "## 3. Zaimplementuj algorytm konstruujący strukturę trie, która przechowuje wszystkie sufiksy łańcucha danego na wejściu."
   ]
  },
  {
   "cell_type": "code",
   "execution_count": 6,
   "metadata": {},
   "outputs": [],
   "source": [
    "class TrieNode:\n",
    "    def __init__(self, parent):\n",
    "        self.parent = parent\n",
    "        self.children = dict()\n",
    "\n",
    "\n",
    "class Trie:\n",
    "    def __init__(self, text):\n",
    "        self.root = TrieNode(None)\n",
    "        for i in range(len(text)):\n",
    "            suffix = text[i:]\n",
    "            head, index = self.find(suffix)\n",
    "            self.graft(head, suffix[index:])\n",
    "\n",
    "    def find(self, text):\n",
    "        current_node = self.root\n",
    "        idx = 0\n",
    "        while idx < len(text) and text[idx] in current_node.children:\n",
    "            current_node = current_node.children[text[idx]]\n",
    "            idx += 1\n",
    "        return current_node, idx\n",
    "\n",
    "    def graft(self, node, text):\n",
    "        for c in text:\n",
    "            new_node = TrieNode(node)\n",
    "            node.children[c] = new_node\n",
    "            node = new_node\n",
    "\n",
    "    def pattern_search(self, pattern):\n",
    "        if len(pattern) == 0:\n",
    "            return True\n",
    "        node, index = self.find(pattern)\n",
    "        return node.children != {} and index == len(pattern)"
   ]
  },
  {
   "cell_type": "markdown",
   "metadata": {},
   "source": [
    "---\n",
    "## 4. Zaimplementuj algorytm konstruujący drzewo sufiksów."
   ]
  },
  {
   "cell_type": "code",
   "execution_count": 7,
   "metadata": {},
   "outputs": [],
   "source": [
    "class SuffixTreeNode:\n",
    "    def __init__(self, start, end):\n",
    "        self.start = start\n",
    "        self.end = end\n",
    "        self.children = dict()\n",
    "\n",
    "\n",
    "class SuffixTree:\n",
    "    def __init__(self, text):\n",
    "        self.root = SuffixTreeNode(0, len(text) - 1)\n",
    "        self.text = text\n",
    "        for i in range(len(text) - 1):\n",
    "            suffix = text[i:]\n",
    "            head, depth = self.find(suffix)\n",
    "            self.graft(head, depth, i)\n",
    "\n",
    "    def find(self, text, depth=0, node=None):\n",
    "        if node is None:\n",
    "            node = self.root\n",
    "        next_node = node.children.get(text[0])\n",
    "        if next_node is None:\n",
    "            return node, depth\n",
    "\n",
    "        next_node_text_len = next_node.end - next_node.start + 1\n",
    "        for i in range(1, next_node_text_len):\n",
    "            if self.text[next_node.start + i] != text[i]:\n",
    "                stop_node = SuffixTreeNode(next_node.start, next_node.start + i - 1)\n",
    "                next_node.start += i\n",
    "                node.children[self.text[stop_node.start]] = stop_node\n",
    "                stop_node.children[self.text[next_node.start]] = next_node\n",
    "                return stop_node, depth + i\n",
    "        return self.find(text[next_node_text_len:], next_node_text_len + depth, next_node)\n",
    "\n",
    "    def graft(self, head, depth, i):\n",
    "        new_node = SuffixTreeNode(depth + i, len(self.text) - 1)\n",
    "        head.children[self.text[new_node.start]] = new_node\n",
    "\n",
    "    def pattern_search(self, pattern, node=None):\n",
    "        if len(pattern) == 0:\n",
    "            return True\n",
    "        if node is None:\n",
    "            node = self.root\n",
    "        next_node = node.children.get(pattern[0])\n",
    "        if next_node is None:\n",
    "            return False\n",
    "\n",
    "        next_node_text_len = next_node.end - next_node.start + 1\n",
    "        for i in range(1, next_node_text_len):\n",
    "            if i == len(pattern):\n",
    "                return True\n",
    "            elif self.text[next_node.start + i] != pattern[i]:\n",
    "                return False\n",
    "        return self.pattern_search(pattern[next_node_text_len:], next_node)"
   ]
  },
  {
   "cell_type": "markdown",
   "metadata": {},
   "source": [
    "---\n",
    "## 5. Upewnij się, że powstałe struktury danych są poprawne. Możesz np. sprawdzić, czy struktura zawiera jakiś ciąg znaków i porównać wyniki z algorytmem wyszukiwania wzorców."
   ]
  },
  {
   "cell_type": "markdown",
   "metadata": {},
   "source": [
    "### Test on a, b, c, d texts"
   ]
  },
  {
   "cell_type": "code",
   "execution_count": 8,
   "metadata": {
    "scrolled": true
   },
   "outputs": [
    {
     "name": "stdout",
     "output_type": "stream",
     "text": [
      "Number of errors in Trie search is 0.\n",
      "Number of errors in Suffix Tree search is 0.\n"
     ]
    }
   ],
   "source": [
    "texts = [a, b, c, d]\n",
    "invalid_patterns = [\"tghn\", \"rty\", \"xcqpl\", \"evc\", \"iop\", \"qwerty\", \"mnb\", \"tyu\", \"fql\", \"sdb\", \"s\", \"z\"]\n",
    "\n",
    "# Trie\n",
    "errors = 0\n",
    "for text in texts:\n",
    "    trie = Trie(text)\n",
    "    for inv_pat in invalid_patterns:\n",
    "        if trie.pattern_search(inv_pat):\n",
    "            errors += 1\n",
    "\n",
    "print(f\"Number of errors in Trie search is {errors}.\")\n",
    "\n",
    "# Suffix Tree\n",
    "errors = 0\n",
    "for text in texts:\n",
    "    suffix_tree = SuffixTree(text)\n",
    "    for inv_pat in invalid_patterns:\n",
    "        if suffix_tree.pattern_search(inv_pat):\n",
    "            errors += 1\n",
    "            \n",
    "print(f\"Number of errors in Suffix Tree search is {errors}.\")"
   ]
  },
  {
   "cell_type": "markdown",
   "metadata": {},
   "source": [
    "### Test on e text"
   ]
  },
  {
   "cell_type": "code",
   "execution_count": 9,
   "metadata": {},
   "outputs": [
    {
     "name": "stdout",
     "output_type": "stream",
     "text": [
      "Number of errors in Trie search is 0.\n",
      "Number of errors in Suffix Tree search is 0.\n"
     ]
    }
   ],
   "source": [
    "invalid_patterns = [\"fsadfasbdasfhbgsddg\", \"hjkghljkh\", \"3124,a\", \"[]659\", \"178vhja\", \"i9bjweoi\"]\n",
    "\n",
    "errors = 0\n",
    "trie = Trie(e)\n",
    "for inv_pat in invalid_patterns:\n",
    "        if trie.pattern_search(inv_pat):\n",
    "            errors += 1\n",
    "            \n",
    "print(f\"Number of errors in Trie search is {errors}.\")\n",
    "\n",
    "errors = 0\n",
    "suffix_tree = SuffixTree(e)\n",
    "for inv_pat in invalid_patterns:\n",
    "    if suffix_tree.pattern_search(inv_pat):\n",
    "        errors += 1\n",
    "print(f\"Number of errors in Suffix Tree search is {errors}.\")"
   ]
  },
  {
   "cell_type": "markdown",
   "metadata": {},
   "source": [
    "### Single tests on each text"
   ]
  },
  {
   "cell_type": "markdown",
   "metadata": {},
   "source": [
    "__Trie__"
   ]
  },
  {
   "cell_type": "code",
   "execution_count": 10,
   "metadata": {},
   "outputs": [
    {
     "name": "stdout",
     "output_type": "stream",
     "text": [
      "Test on Trie on a text. Is it correct? True\n",
      "Test on Trie on b text. Is it correct? True\n",
      "Test on Trie on c text. Is it correct? True\n",
      "Test on Trie on d text. Is it correct? True\n",
      "Test on Trie on e text. Is it correct? True\n"
     ]
    }
   ],
   "source": [
    "print(f\"Test on Trie on a text. Is it correct? {Trie(a).pattern_search('bb')}\")\n",
    "print(f\"Test on Trie on b text. Is it correct? {Trie(b).pattern_search('abb')}\")\n",
    "print(f\"Test on Trie on c text. Is it correct? {Trie(c).pattern_search('aba')}\")\n",
    "print(f\"Test on Trie on d text. Is it correct? {Trie(d).pattern_search('abc')}\")\n",
    "print(f\"Test on Trie on e text. Is it correct? {Trie(e).pattern_search('dochodowego')}\")"
   ]
  },
  {
   "cell_type": "markdown",
   "metadata": {},
   "source": [
    "__Suffix Tree__"
   ]
  },
  {
   "cell_type": "code",
   "execution_count": 11,
   "metadata": {},
   "outputs": [
    {
     "name": "stdout",
     "output_type": "stream",
     "text": [
      "Test on Suffix Tree on a text. Is it correct? True\n",
      "Test on Suffix Tree on b text. Is it correct? True\n",
      "Test on Suffix Tree on c text. Is it correct? True\n",
      "Test on Suffix Tree on d text. Is it correct? True\n",
      "Test on Suffix Tree on e text. Is it correct? True\n"
     ]
    }
   ],
   "source": [
    "print(f\"Test on Suffix Tree on a text. Is it correct? {SuffixTree(a).pattern_search('bb')}\")\n",
    "print(f\"Test on Suffix Tree on b text. Is it correct? {SuffixTree(b).pattern_search('abb')}\")\n",
    "print(f\"Test on Suffix Tree on c text. Is it correct? {SuffixTree(c).pattern_search('aba')}\")\n",
    "print(f\"Test on Suffix Tree on d text. Is it correct? {SuffixTree(d).pattern_search('abc')}\")\n",
    "print(f\"Test on Suffix Tree on e text. Is it correct? {SuffixTree(e).pattern_search('dochodowego')}\")"
   ]
  },
  {
   "cell_type": "markdown",
   "metadata": {},
   "source": [
    "---\n",
    "## 6. Porównaj szybkość działania algorytmów konstruujących struktury danych dla danych z p. 1 w następujących wariantach:\n",
    " - __Trie - czas budowy O(n^2), rozmiar drzewa O(n^2), n - długość tekstu (można wykorzystać fragment załączonego tekstu),__\n",
    " - __Drzewo sufiksów bez wykorzystania procedury fast_find oraz elementów \"link\" - czas budowy O(n^2), rozmiar drzewa O(n) (w trakcie tworzenia drzewa rozmiar ten nie może być większy).__"
   ]
  },
  {
   "cell_type": "code",
   "execution_count": 12,
   "metadata": {},
   "outputs": [],
   "source": [
    "import pandas as pd"
   ]
  },
  {
   "cell_type": "markdown",
   "metadata": {},
   "source": [
    "### Trie test"
   ]
  },
  {
   "cell_type": "code",
   "execution_count": 13,
   "metadata": {
    "scrolled": true
   },
   "outputs": [
    {
     "name": "stdout",
     "output_type": "stream",
     "text": [
      "7.45 µs ± 260 ns per loop (mean ± std. dev. of 7 runs, 100,000 loops each)\n",
      "17 µs ± 595 ns per loop (mean ± std. dev. of 7 runs, 100,000 loops each)\n",
      "13.5 µs ± 369 ns per loop (mean ± std. dev. of 7 runs, 100,000 loops each)\n",
      "17.1 µs ± 765 ns per loop (mean ± std. dev. of 7 runs, 100,000 loops each)\n",
      "1.35 s ± 49.2 ms per loop (mean ± std. dev. of 7 runs, 1 loop each)\n"
     ]
    }
   ],
   "source": [
    "trie_a_time = %timeit -o Trie(a).pattern_search('bb')\n",
    "trie_b_time = %timeit -o Trie(b).pattern_search('abb')\n",
    "trie_c_time = %timeit -o Trie(c).pattern_search('aba')\n",
    "trie_d_time = %timeit -o Trie(d).pattern_search('abc')\n",
    "trie_e_time = %timeit -o Trie(e).pattern_search('dochodowego')"
   ]
  },
  {
   "cell_type": "code",
   "execution_count": 14,
   "metadata": {},
   "outputs": [],
   "source": [
    "trie_time = [trie_a_time.average, trie_b_time.average, trie_c_time.average,\n",
    "             trie_d_time.average, trie_e_time.average]"
   ]
  },
  {
   "cell_type": "markdown",
   "metadata": {},
   "source": [
    "### Suffix Tree test"
   ]
  },
  {
   "cell_type": "code",
   "execution_count": 15,
   "metadata": {},
   "outputs": [
    {
     "name": "stdout",
     "output_type": "stream",
     "text": [
      "6.79 µs ± 167 ns per loop (mean ± std. dev. of 7 runs, 100,000 loops each)\n",
      "12.1 µs ± 230 ns per loop (mean ± std. dev. of 7 runs, 100,000 loops each)\n",
      "8.97 µs ± 343 ns per loop (mean ± std. dev. of 7 runs, 100,000 loops each)\n",
      "9.89 µs ± 518 ns per loop (mean ± std. dev. of 7 runs, 100,000 loops each)\n",
      "17.7 ms ± 635 µs per loop (mean ± std. dev. of 7 runs, 100 loops each)\n"
     ]
    }
   ],
   "source": [
    "suffix_a_time = %timeit -o SuffixTree(a).pattern_search('bb')\n",
    "suffix_b_time = %timeit -o SuffixTree(b).pattern_search('abb')\n",
    "suffix_c_time = %timeit -o SuffixTree(c).pattern_search('aba')\n",
    "suffix_d_time = %timeit -o SuffixTree(d).pattern_search('abc')\n",
    "suffix_e_time = %timeit -o SuffixTree(e).pattern_search('dochodowego')"
   ]
  },
  {
   "cell_type": "code",
   "execution_count": 16,
   "metadata": {},
   "outputs": [],
   "source": [
    "suffix_time = [suffix_a_time.average, suffix_b_time.average, suffix_c_time.average,\n",
    "               suffix_d_time.average, suffix_e_time.average]"
   ]
  },
  {
   "cell_type": "markdown",
   "metadata": {},
   "source": [
    "### Time comparison"
   ]
  },
  {
   "cell_type": "code",
   "execution_count": 17,
   "metadata": {},
   "outputs": [],
   "source": [
    "def which_faster(row):\n",
    "    if row[\"Trie test\"] <= row[\"Suffix Tree test\"]:\n",
    "        return \"Trie test\"\n",
    "    else:\n",
    "        return \"Suffix Tree test\""
   ]
  },
  {
   "cell_type": "code",
   "execution_count": 18,
   "metadata": {},
   "outputs": [],
   "source": [
    "data = {\"Trie test\": trie_time, \"Suffix Tree test\": suffix_time}\n",
    "df = pd.DataFrame(data=data)\n",
    "df[\"Difference\"] = df[\"Trie test\"] - df[\"Suffix Tree test\"]\n",
    "df[\"Faster structure\"] = df.apply(lambda row: which_faster(row), axis=1)"
   ]
  },
  {
   "cell_type": "code",
   "execution_count": 19,
   "metadata": {},
   "outputs": [
    {
     "data": {
      "text/html": [
       "<div>\n",
       "<style scoped>\n",
       "    .dataframe tbody tr th:only-of-type {\n",
       "        vertical-align: middle;\n",
       "    }\n",
       "\n",
       "    .dataframe tbody tr th {\n",
       "        vertical-align: top;\n",
       "    }\n",
       "\n",
       "    .dataframe thead th {\n",
       "        text-align: right;\n",
       "    }\n",
       "</style>\n",
       "<table border=\"1\" class=\"dataframe\">\n",
       "  <thead>\n",
       "    <tr style=\"text-align: right;\">\n",
       "      <th></th>\n",
       "      <th>Trie test</th>\n",
       "      <th>Suffix Tree test</th>\n",
       "      <th>Difference</th>\n",
       "      <th>Faster structure</th>\n",
       "    </tr>\n",
       "  </thead>\n",
       "  <tbody>\n",
       "    <tr>\n",
       "      <th>0</th>\n",
       "      <td>0.000007</td>\n",
       "      <td>0.000007</td>\n",
       "      <td>6.533942e-07</td>\n",
       "      <td>Suffix Tree test</td>\n",
       "    </tr>\n",
       "    <tr>\n",
       "      <th>1</th>\n",
       "      <td>0.000017</td>\n",
       "      <td>0.000012</td>\n",
       "      <td>4.884482e-06</td>\n",
       "      <td>Suffix Tree test</td>\n",
       "    </tr>\n",
       "    <tr>\n",
       "      <th>2</th>\n",
       "      <td>0.000013</td>\n",
       "      <td>0.000009</td>\n",
       "      <td>4.524646e-06</td>\n",
       "      <td>Suffix Tree test</td>\n",
       "    </tr>\n",
       "    <tr>\n",
       "      <th>3</th>\n",
       "      <td>0.000017</td>\n",
       "      <td>0.000010</td>\n",
       "      <td>7.235248e-06</td>\n",
       "      <td>Suffix Tree test</td>\n",
       "    </tr>\n",
       "    <tr>\n",
       "      <th>4</th>\n",
       "      <td>1.349214</td>\n",
       "      <td>0.017708</td>\n",
       "      <td>1.331506e+00</td>\n",
       "      <td>Suffix Tree test</td>\n",
       "    </tr>\n",
       "  </tbody>\n",
       "</table>\n",
       "</div>"
      ],
      "text/plain": [
       "   Trie test  Suffix Tree test    Difference  Faster structure\n",
       "0   0.000007          0.000007  6.533942e-07  Suffix Tree test\n",
       "1   0.000017          0.000012  4.884482e-06  Suffix Tree test\n",
       "2   0.000013          0.000009  4.524646e-06  Suffix Tree test\n",
       "3   0.000017          0.000010  7.235248e-06  Suffix Tree test\n",
       "4   1.349214          0.017708  1.331506e+00  Suffix Tree test"
      ]
     },
     "execution_count": 19,
     "metadata": {},
     "output_type": "execute_result"
    }
   ],
   "source": [
    "df"
   ]
  }
 ],
 "metadata": {
  "kernelspec": {
   "display_name": "Python 3 (ipykernel)",
   "language": "python",
   "name": "python3"
  },
  "language_info": {
   "codemirror_mode": {
    "name": "ipython",
    "version": 3
   },
   "file_extension": ".py",
   "mimetype": "text/x-python",
   "name": "python",
   "nbconvert_exporter": "python",
   "pygments_lexer": "ipython3",
   "version": "3.8.10"
  }
 },
 "nbformat": 4,
 "nbformat_minor": 4
}
