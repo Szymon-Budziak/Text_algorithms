{
 "cells": [
  {
   "cell_type": "markdown",
   "id": "119ca57e",
   "metadata": {},
   "source": [
    "# Huffman coding"
   ]
  },
  {
   "cell_type": "markdown",
   "id": "5934479f",
   "metadata": {},
   "source": [
    "## Zadanie polega na implementacji dwóch algorytmów kompresji:\n",
    " __- statycznego algorytmu Huffmana (1 punkty),__\n",
    " \n",
    " __- dynamicznego algorytmu Huffmana (2 punkty).__\n",
    "## Dla każdego z algorytmów należy wykonać następujące zadania:\n",
    " __1) Opracować format pliku przechowującego dane,__\n",
    " \n",
    " __2) Zaimplementować algorytm kompresji i dekompresji danych dla tego formatu pliku,__\n",
    " \n",
    " __3) Zmierzyć współczynnik kompresji (wyrażone w procentach: 1 - plik_skompresowany / plik_nieskompresowany) dla plików tekstowych o rozmiarach: 1kB, 10kB, 100kB, 1MB,__\n",
    " \n",
    " __4) Zmierzyć czas kompresji i dekompresji dla plików z punktu 3.__"
   ]
  },
  {
   "cell_type": "markdown",
   "id": "f36e4c30",
   "metadata": {},
   "source": [
    "### Imports"
   ]
  },
  {
   "cell_type": "code",
   "execution_count": 1,
   "id": "a520e66f",
   "metadata": {},
   "outputs": [],
   "source": [
    "from heapq import heappop, heappush, heapify\n",
    "from bitarray import bitarray\n",
    "from bitarray.util import ba2int"
   ]
  },
  {
   "cell_type": "markdown",
   "id": "762282d8",
   "metadata": {},
   "source": [
    "### Statyczny algorytm Huffmana"
   ]
  },
  {
   "cell_type": "code",
   "execution_count": 2,
   "id": "fbc46a14",
   "metadata": {},
   "outputs": [],
   "source": [
    "class Node:\n",
    "    def __init__(self, value, char=None, left=None, right=None):\n",
    "        self.value = value\n",
    "        self.char = char\n",
    "        self.left = left\n",
    "        self.right = right\n",
    "\n",
    "    def __gt__(self, other):\n",
    "        return self.value > other.value\n",
    "\n",
    "\n",
    "class StaticHuffmanTree:\n",
    "    def __init__(self, text):\n",
    "        self.root = self.build_static_huffman_tree(text)\n",
    "        self.codes = dict()\n",
    "        self.create_huffman_codes(self.root, self.codes, bitarray())\n",
    "\n",
    "    def build_static_huffman_tree(self, text):\n",
    "        letters = dict()\n",
    "        for char in text:\n",
    "            letters[char] = letters.get(char, 0) + 1\n",
    "        leafs = [Node(weight, char) for char, weight in letters.items()]\n",
    "        while len(leafs) > 1:\n",
    "            first, second = heappop(leafs), heappop(leafs)\n",
    "            heappush(leafs, Node(first.value + second.value, left=first, right=second))\n",
    "        return leafs[0]\n",
    "\n",
    "    def create_huffman_codes(self, node, codes, code):\n",
    "        if node.char is not None:\n",
    "            codes[node.char] = code\n",
    "\n",
    "        code_cpy = code.copy()\n",
    "        if node.left is not None:\n",
    "            code.append(0)\n",
    "            self.create_huffman_codes(node.left, codes, code)\n",
    "\n",
    "        if node.right is not None:\n",
    "            code = code_cpy\n",
    "            code.append(1)\n",
    "            self.create_huffman_codes(node.right, codes, code)\n",
    "\n",
    "    def encode_static_huffman_tree(self, text):\n",
    "        result = bitarray()\n",
    "        for char in text:  # TODO check append below\n",
    "            result.extend(self.codes[char])\n",
    "        return result\n",
    "    \n",
    "    def decode_static_huffman_tree(self, encoded_text):\n",
    "        node = self.root\n",
    "        decoded_text = \"\"\n",
    "        for bit in encoded_text:\n",
    "            if not bit:\n",
    "                node = node.left\n",
    "            else:\n",
    "                node = node.right\n",
    "            if not node.left and not node.right:\n",
    "                decoded_text += node.char\n",
    "                node = self.root\n",
    "        return decoded_text"
   ]
  },
  {
   "cell_type": "markdown",
   "id": "ff5c58b3",
   "metadata": {},
   "source": [
    "__Example test__"
   ]
  },
  {
   "cell_type": "code",
   "execution_count": 3,
   "id": "fc519282",
   "metadata": {},
   "outputs": [
    {
     "data": {
      "text/plain": [
       "\"Hello world. I'm Huffman encoder and decoder!\""
      ]
     },
     "execution_count": 3,
     "metadata": {},
     "output_type": "execute_result"
    }
   ],
   "source": [
    "text = \"Hello world. I'm Huffman encoder and decoder!\"\n",
    "tree = StaticHuffmanTree(text)\n",
    "result = tree.encode_static_huffman_tree(text)\n",
    "tree.decode_static_huffman_tree(result)"
   ]
  },
  {
   "cell_type": "markdown",
   "id": "7fb6705b",
   "metadata": {},
   "source": [
    "### Dynamiczny algorytm Huffmana"
   ]
  },
  {
   "cell_type": "code",
   "execution_count": 4,
   "id": "ae6102a7",
   "metadata": {},
   "outputs": [],
   "source": [
    "class Node2:\n",
    "    def __init__(self, weight=0, index=0, char=None, left=None, right=None, parent=None):\n",
    "        self.weight = weight\n",
    "        self.index = index\n",
    "        self.char = char\n",
    "        self.left = left\n",
    "        self.right = right\n",
    "        self.parent = parent\n",
    "\n",
    "\n",
    "class AdaptiveHuffmanTree:\n",
    "    def __init__(self):\n",
    "        self.index = 520\n",
    "        NYT = Node2(weight=0, index=self.index + 1, char='NYT')\n",
    "        self.NYT = NYT\n",
    "        self.root = NYT\n",
    "        self.leaves = {\"NYT\": self.root}\n",
    "        self.weights = {0: {self.root}, 1: set()}\n",
    "\n",
    "    def add_new_node(self, char):\n",
    "        node = self.NYT\n",
    "        left_node = Node2(weight=0, index=self.index - 1, parent=node, char=\"NYT\")\n",
    "        node.left = left_node\n",
    "        right_node = Node2(weight=1, index=self.index, parent=node, char=char)\n",
    "        node.right = right_node\n",
    "        node.char = None\n",
    "        self.index -= 2\n",
    "        self.NYT = left_node\n",
    "        self.weights[0].add(left_node)\n",
    "        self.weights[1].add(right_node)\n",
    "        self.leaves[char] = right_node\n",
    "        self.leaves[\"NYT\"] = left_node\n",
    "        self.increment_and_swap(node)\n",
    "\n",
    "    def increment_and_swap(self, node):\n",
    "        while node != self.root:\n",
    "            node = node.parent\n",
    "            max_index_node = max(self.weights[node.weight], key=lambda nd: nd.index)\n",
    "            if node != max_index_node:\n",
    "                node.index, max_index_node.index = max_index_node.index, node.index\n",
    "                if node.parent == max_index_node.parent:\n",
    "                    if node == node.parent.left:\n",
    "                        node.parent.right = node\n",
    "                        node.parent.left = max_index_node\n",
    "                    else:\n",
    "                        node.parent.right = max_index_node\n",
    "                        node.parent.left = node\n",
    "                else:\n",
    "                    if node == node.parent.left:\n",
    "                        node.parent.left = max_index_node\n",
    "                    else:\n",
    "                        node.parent.right = max_index_node\n",
    "                    if max_index_node.parent.left == max_index_node:\n",
    "                        max_index_node.parent.left = node\n",
    "                    else:\n",
    "                        max_index_node.parent.right = node\n",
    "                    if node.parent != max_index_node.parent:\n",
    "                        max_index_node.parent, node.parent = node.parent, max_index_node.parent\n",
    "            self.weights[node.weight].remove(node)\n",
    "            node.weight += 1\n",
    "            if node.weight not in self.weights:\n",
    "                self.weights[node.weight] = set()\n",
    "            self.weights[node.weight].add(node)\n",
    "\n",
    "    def get_code(self, char):\n",
    "        node = self.leaves[char]\n",
    "        code = bitarray()\n",
    "        while node != self.root:\n",
    "            if node == node.parent.left:\n",
    "                code.append(0)\n",
    "            else:\n",
    "                code.append(1)\n",
    "            node = node.parent\n",
    "        code.reverse()\n",
    "        return code\n",
    "\n",
    "    def encode_adaptive_huffman_tree(self, text):\n",
    "        coded_text = bitarray()\n",
    "        for char in text:\n",
    "            if char in self.leaves:\n",
    "                coded_text += self.get_code(char)\n",
    "                self.increment_and_swap(self.leaves[char])\n",
    "            else:\n",
    "                coded_char = self.get_code('NYT')\n",
    "                coded_char.frombytes(char.encode(\"utf-8\"))\n",
    "                coded_text += coded_char\n",
    "                self.add_new_node(char)\n",
    "        end_bits = 8 - len(coded_text) % 8\n",
    "        coded_text = bitarray(f\"{end_bits:08b}\") + coded_text + bitarray(end_bits)\n",
    "        return coded_text\n",
    "\n",
    "\n",
    "def decode_adaptive_huffman_tree(encoded_text):\n",
    "    tree = AdaptiveHuffmanTree()\n",
    "    node = tree.root\n",
    "    idx = 0\n",
    "    encoded_text = encoded_text[8:-ba2int(encoded_text[:8])]\n",
    "    decoded_text = \"\"\n",
    "    while idx < len(encoded_text):\n",
    "        while not (node.left is None and node.right is None):\n",
    "            if not encoded_text[idx]:\n",
    "                node = node.left\n",
    "            else:\n",
    "                node = node.right\n",
    "            idx += 1\n",
    "        if node.char == \"NYT\":\n",
    "            char_coded = encoded_text[idx:idx + 8]\n",
    "            char_decoded = char_coded.tobytes().decode(\"utf-8\")\n",
    "            tree.add_new_node(char_decoded)\n",
    "            idx += 8\n",
    "        else:\n",
    "            char_decoded = node.char\n",
    "            tree.increment_and_swap(tree.leaves[char_decoded])\n",
    "        node = tree.root\n",
    "        decoded_text += char_decoded\n",
    "    return decoded_text"
   ]
  },
  {
   "cell_type": "markdown",
   "id": "50692bb8",
   "metadata": {},
   "source": [
    "__Example test__"
   ]
  },
  {
   "cell_type": "code",
   "execution_count": 5,
   "id": "c032d11c",
   "metadata": {},
   "outputs": [
    {
     "name": "stdout",
     "output_type": "stream",
     "text": [
      "Hello world. I'm Huffman encoder and decoder!\n"
     ]
    }
   ],
   "source": [
    "text = \"Hello world. I'm Huffman encoder and decoder!\"\n",
    "tree = AdaptiveHuffmanTree()\n",
    "result = tree.encode_adaptive_huffman_tree(text)\n",
    "print(decode_adaptive_huffman_tree(result))"
   ]
  },
  {
   "cell_type": "markdown",
   "id": "a462c479",
   "metadata": {},
   "source": [
    "### Tests"
   ]
  },
  {
   "cell_type": "code",
   "execution_count": 6,
   "id": "62ddc2d8",
   "metadata": {},
   "outputs": [],
   "source": [
    "from timeit import default_timer as timer\n",
    "import os"
   ]
  },
  {
   "cell_type": "markdown",
   "id": "c44c5bdb",
   "metadata": {},
   "source": [
    "__Compression test__"
   ]
  },
  {
   "cell_type": "code",
   "execution_count": 7,
   "id": "34817d05",
   "metadata": {},
   "outputs": [],
   "source": [
    "def compression_ratio(read_file, write_file):\n",
    "    original_size = os.path.getsize(read_file)\n",
    "    coded_size = os.path.getsize(write_file)\n",
    "    return 1 - coded_size / original_size"
   ]
  },
  {
   "cell_type": "code",
   "execution_count": 8,
   "id": "dd48ae88",
   "metadata": {},
   "outputs": [],
   "source": [
    "def compression_test(read_file, size):\n",
    "    save_file = f\"output_files/compression_static_{size}.txt\"\n",
    "    static_tree = StaticHuffmanTree(text)\n",
    "    encoded = static_tree.encode_static_huffman_tree(text)\n",
    "    with open(save_file, \"wb+\") as f:\n",
    "        encoded.tofile(f)\n",
    "    static_compression = compression_ratio(read_file, save_file)\n",
    "    print(f\"Compression ratio for {read_file} for StaticHuffmanTree is {static_compression * 100}%.\")\n",
    "    \n",
    "    save_file = f\"output_files/compression_adaptive_{size}.txt\"\n",
    "    adaptive_tree = AdaptiveHuffmanTree()\n",
    "    encoded = adaptive_tree.encode_adaptive_huffman_tree(text)\n",
    "    with open(save_file, \"wb+\") as f:\n",
    "        encoded.tofile(f)\n",
    "    adaptive_compression = compression_ratio(read_file, save_file)\n",
    "    print(f\"Compression ratio for {read_file} for AdaptiveHuffmanTree is {adaptive_compression * 100}%.\")"
   ]
  },
  {
   "cell_type": "markdown",
   "id": "1797120d",
   "metadata": {},
   "source": [
    "1kb file"
   ]
  },
  {
   "cell_type": "code",
   "execution_count": 9,
   "id": "732551fb",
   "metadata": {},
   "outputs": [
    {
     "name": "stdout",
     "output_type": "stream",
     "text": [
      "Compression ratio for test_files/1kB.txt for StaticHuffmanTree is 97.60717846460618%.\n",
      "Compression ratio for test_files/1kB.txt for AdaptiveHuffmanTree is 95.61316051844466%.\n"
     ]
    }
   ],
   "source": [
    "compression_test(\"test_files/1kB.txt\", \"1kb\")"
   ]
  },
  {
   "cell_type": "markdown",
   "id": "04c1585b",
   "metadata": {},
   "source": [
    "10kb file"
   ]
  },
  {
   "cell_type": "code",
   "execution_count": 10,
   "id": "f58c4c5a",
   "metadata": {},
   "outputs": [
    {
     "name": "stdout",
     "output_type": "stream",
     "text": [
      "Compression ratio for test_files/10kB.txt for StaticHuffmanTree is 99.76083707025411%.\n",
      "Compression ratio for test_files/10kB.txt for AdaptiveHuffmanTree is 99.5615346287992%.\n"
     ]
    }
   ],
   "source": [
    "compression_test(\"test_files/10kB.txt\", \"10kb\")"
   ]
  },
  {
   "cell_type": "markdown",
   "id": "dce1ac29",
   "metadata": {},
   "source": [
    "100kb file"
   ]
  },
  {
   "cell_type": "code",
   "execution_count": 11,
   "id": "e0dcb9cf",
   "metadata": {},
   "outputs": [
    {
     "name": "stdout",
     "output_type": "stream",
     "text": [
      "Compression ratio for test_files/100kB.txt for StaticHuffmanTree is 99.9759896755605%.\n",
      "Compression ratio for test_files/100kB.txt for AdaptiveHuffmanTree is 99.9559810718609%.\n"
     ]
    }
   ],
   "source": [
    "compression_test(\"test_files/100kB.txt\", \"100kb\")"
   ]
  },
  {
   "cell_type": "markdown",
   "id": "07881b1a",
   "metadata": {},
   "source": [
    "1MB file"
   ]
  },
  {
   "cell_type": "code",
   "execution_count": 12,
   "id": "c43836e4",
   "metadata": {},
   "outputs": [
    {
     "name": "stdout",
     "output_type": "stream",
     "text": [
      "Compression ratio for test_files/1MB.txt for StaticHuffmanTree is 99.99760654848335%.\n",
      "Compression ratio for test_files/1MB.txt for AdaptiveHuffmanTree is 99.9956120055528%.\n"
     ]
    }
   ],
   "source": [
    "compression_test(\"test_files/1MB.txt\", \"1Mb\")"
   ]
  },
  {
   "cell_type": "markdown",
   "id": "6cf3fe84",
   "metadata": {},
   "source": [
    "__Time test__"
   ]
  },
  {
   "cell_type": "code",
   "execution_count": 13,
   "id": "8774fc23",
   "metadata": {},
   "outputs": [],
   "source": [
    "def time_test(filename, n):\n",
    "    with open(filename, \"r\") as f:\n",
    "        text = f.read()\n",
    "        \n",
    "    static_tree = StaticHuffmanTree(text)    \n",
    "    average_time = 0\n",
    "    for _ in range(n):\n",
    "        start = timer()\n",
    "        result = static_tree.encode_static_huffman_tree(text)\n",
    "        static_tree.decode_static_huffman_tree(result)\n",
    "        end = timer()\n",
    "        average_time += (end - start)\n",
    "    average_time /= n\n",
    "    print(f\"Average time execution for {filename} for StaticHuffmanTree is {average_time} s.\")\n",
    "    \n",
    "    average_time = 0\n",
    "    for _ in range(n):\n",
    "        adaptive_tree = AdaptiveHuffmanTree()\n",
    "        start = timer()\n",
    "        result = adaptive_tree.encode_adaptive_huffman_tree(text)\n",
    "        decode_adaptive_huffman_tree(result)\n",
    "        end = timer()\n",
    "        average_time += (end - start)\n",
    "    average_time /= n\n",
    "    print(f\"Average time execution for {filename} AdaptiveHuffmanTree is {average_time} s.\")"
   ]
  },
  {
   "cell_type": "markdown",
   "id": "cd5002a0",
   "metadata": {},
   "source": [
    "1kb file"
   ]
  },
  {
   "cell_type": "code",
   "execution_count": 14,
   "id": "94d9fab5",
   "metadata": {},
   "outputs": [
    {
     "name": "stdout",
     "output_type": "stream",
     "text": [
      "Average time execution for test_files/1kB.txt for StaticHuffmanTree is 0.0005781292299616326 s.\n",
      "Average time execution for test_files/1kB.txt AdaptiveHuffmanTree is 0.012443592740091845 s.\n"
     ]
    }
   ],
   "source": [
    "time_test(\"test_files/1kB.txt\", 100)"
   ]
  },
  {
   "cell_type": "markdown",
   "id": "126fc1b4",
   "metadata": {},
   "source": [
    "10kb file"
   ]
  },
  {
   "cell_type": "code",
   "execution_count": 15,
   "id": "f703e7b3",
   "metadata": {},
   "outputs": [
    {
     "name": "stdout",
     "output_type": "stream",
     "text": [
      "Average time execution for test_files/10kB.txt for StaticHuffmanTree is 0.005187703359988518 s.\n",
      "Average time execution for test_files/10kB.txt AdaptiveHuffmanTree is 0.1282756534100372 s.\n"
     ]
    }
   ],
   "source": [
    "time_test(\"test_files/10kB.txt\", 100)"
   ]
  },
  {
   "cell_type": "markdown",
   "id": "554dcf2b",
   "metadata": {},
   "source": [
    "100kb file"
   ]
  },
  {
   "cell_type": "code",
   "execution_count": 16,
   "id": "d19b8fde",
   "metadata": {},
   "outputs": [
    {
     "name": "stdout",
     "output_type": "stream",
     "text": [
      "Average time execution for test_files/100kB.txt for StaticHuffmanTree is 0.052261491779827335 s.\n",
      "Average time execution for test_files/100kB.txt AdaptiveHuffmanTree is 1.3611553820001063 s.\n"
     ]
    }
   ],
   "source": [
    "time_test(\"test_files/100kB.txt\", 50)"
   ]
  },
  {
   "cell_type": "markdown",
   "id": "2efbb3e8",
   "metadata": {},
   "source": [
    "1MB file"
   ]
  },
  {
   "cell_type": "code",
   "execution_count": 17,
   "id": "e07385ca",
   "metadata": {},
   "outputs": [
    {
     "name": "stdout",
     "output_type": "stream",
     "text": [
      "Average time execution for test_files/1MB.txt for StaticHuffmanTree is 0.4891548031000639 s.\n",
      "Average time execution for test_files/1MB.txt AdaptiveHuffmanTree is 13.80819525959996 s.\n"
     ]
    }
   ],
   "source": [
    "time_test(\"test_files/1MB.txt\", 10)"
   ]
  }
 ],
 "metadata": {
  "kernelspec": {
   "display_name": "Python 3 (ipykernel)",
   "language": "python",
   "name": "python3"
  },
  "language_info": {
   "codemirror_mode": {
    "name": "ipython",
    "version": 3
   },
   "file_extension": ".py",
   "mimetype": "text/x-python",
   "name": "python",
   "nbconvert_exporter": "python",
   "pygments_lexer": "ipython3",
   "version": "3.8.10"
  }
 },
 "nbformat": 4,
 "nbformat_minor": 5
}
