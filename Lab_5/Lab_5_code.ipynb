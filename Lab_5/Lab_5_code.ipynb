{
 "cells": [
  {
   "cell_type": "markdown",
   "id": "ca380825",
   "metadata": {},
   "source": [
    "# 2D pattern matching\n",
    "Zadanie dotyczy wyszukiwania wzorców dwuwymiarowych.\n",
    "\n",
    "1. Zaimplementuj algorytm wyszukiwania wzorca 2-wymiarowego\n",
    "2. Znajdź w załączonym pliku \"haystack.txt\" wszyskie sytuacje, gdy taka sama litera występuje na tej samej pozycji w dwóch kolejnych linijkach. Zwróć uwagę, na nierówną długość linii w pliku.\n",
    "3. Znajdź wszystkie wystąpienia \"th\" oraz \"t h\" w dwóch kolejnych liniach na tej samej pozycji.\n",
    "4. Wybierz przynajmniej 4 litery (małe). Znajdź wszystkie wystąpienia tej litery w załączonym pliku \"haystack.png\"\n",
    "5. Znajdź wszystkie wystąpienia słowa \"p a t t e r n\" w haystack.png.\n",
    "6. Porównaj czas budowania automatu i czas wyszukiwania dla różnych rozmiarów wzorca\n",
    "7. Podziel plik na 2, 4 i 8 fragmentów (w poziomie) i porównaj czas przeszukiwania\n",
    "---"
   ]
  },
  {
   "cell_type": "code",
   "execution_count": 1,
   "id": "4a7886cf",
   "metadata": {},
   "outputs": [],
   "source": [
    "import numpy as np\n",
    "import pandas as pd\n",
    "from PIL import Image"
   ]
  },
  {
   "cell_type": "markdown",
   "id": "b4b04189",
   "metadata": {},
   "source": [
    "__Exercise 1__\n",
    "\n",
    "Zaimplementuj algorytm wyszukiwania wzorca 2-wymiarowego"
   ]
  },
  {
   "cell_type": "code",
   "execution_count": 2,
   "id": "1f0d86d7",
   "metadata": {},
   "outputs": [],
   "source": [
    "def get_diff_columns(pattern):\n",
    "    columns = []\n",
    "    indexes = []\n",
    "    alphabet = set()\n",
    "    for i in range(len(pattern[0])):\n",
    "        col = []\n",
    "        for j in range(len(pattern)):\n",
    "            col.append(pattern[j][i])\n",
    "            alphabet.add(pattern[j][i])\n",
    "\n",
    "        if col in columns:\n",
    "            idx = columns.index(col)\n",
    "            indexes.append(idx)\n",
    "        else:\n",
    "            columns.append(col)\n",
    "            indexes.append(len(columns) - 1)\n",
    "    return columns, indexes, alphabet"
   ]
  },
  {
   "cell_type": "code",
   "execution_count": 3,
   "id": "77b0dc61",
   "metadata": {},
   "outputs": [],
   "source": [
    "def vertical_automaton(columns, letters):\n",
    "    tt = [{}]\n",
    "    words = [[]]\n",
    "    states = [0] * len(columns)\n",
    "\n",
    "    for i in range(len(columns[0])):\n",
    "        for j in range(len(columns)):\n",
    "            if columns[j][i] in tt[states[j]]:\n",
    "                states[j] = tt[states[j]][columns[j][i]]\n",
    "            else:\n",
    "                tt[states[j]][columns[j][i]] = len(tt)\n",
    "                words.append(words[states[j]] + [columns[j][i]])\n",
    "                states[j] = len(tt)\n",
    "                tt.append({})\n",
    "\n",
    "    for i in range(len(tt)):\n",
    "        for l in letters:\n",
    "            if l not in tt[i]:\n",
    "                suffix = (words[i] + [l])[1:]\n",
    "                state = 0\n",
    "                for s in suffix:\n",
    "                    if s in tt[state]:\n",
    "                        state = tt[state][s]\n",
    "                    else:\n",
    "                        state = 0\n",
    "\n",
    "                tt[i][l] = state\n",
    "    return tt, states"
   ]
  },
  {
   "cell_type": "code",
   "execution_count": 4,
   "id": "63405667",
   "metadata": {},
   "outputs": [],
   "source": [
    "def horizontal_automaton(pattern, letters):\n",
    "    result = []\n",
    "    for state in range(len(pattern) + 1):\n",
    "        result.append({})\n",
    "        for l in letters:\n",
    "            next_state = min(len(pattern), state + 1)\n",
    "            while True:\n",
    "                if pattern[:next_state] == (pattern[:state] + [l])[state - next_state + 1:state + 1]:\n",
    "                    break\n",
    "                next_state -= 1\n",
    "            result[state][l] = next_state\n",
    "    return result"
   ]
  },
  {
   "cell_type": "code",
   "execution_count": 5,
   "id": "844c55a0",
   "metadata": {},
   "outputs": [],
   "source": [
    "def main_automaton(pattern):\n",
    "    columns, indexes, letters = get_diff_columns(pattern)\n",
    "    vertical_tt, vertical_states = vertical_automaton(columns, letters)\n",
    "\n",
    "    new_pattern = [vertical_states[indexes[i]] for i in range(len(indexes))]\n",
    "    horizontal_tt = horizontal_automaton(new_pattern, vertical_states)\n",
    "    horizontal_state = len(horizontal_tt) - 1\n",
    "    return vertical_tt, horizontal_tt, horizontal_state"
   ]
  },
  {
   "cell_type": "code",
   "execution_count": 6,
   "id": "a13d1633",
   "metadata": {},
   "outputs": [],
   "source": [
    "def pattern_matching_2d(text, pattern, automaton=None):\n",
    "    if automaton is None:\n",
    "        vertical_tt, horizontal_tt, horizontal_state = main_automaton(pattern)\n",
    "    else:\n",
    "        vertical_tt, horizontal_tt, horizontal_state = automaton\n",
    "\n",
    "    result = []\n",
    "    vertical_states = []\n",
    "    for i in range(len(text)):\n",
    "        if len(text[i]) < len(vertical_states):\n",
    "            vertical_states = vertical_states[:len(text[i])]\n",
    "        elif len(vertical_states) < len(text[i]):\n",
    "            vertical_states = vertical_states + [0] * (len(text[i]) - len(vertical_states))\n",
    "\n",
    "        new_horizontal_state = 0\n",
    "        for j in range(len(text[i])):\n",
    "            if text[i][j] in vertical_tt[vertical_states[j]]:\n",
    "                vertical_states[j] = vertical_tt[vertical_states[j]][text[i][j]]\n",
    "            else:\n",
    "                vertical_states[j] = 0\n",
    "            if vertical_states[j] in horizontal_tt[new_horizontal_state]:\n",
    "                new_horizontal_state = horizontal_tt[new_horizontal_state][vertical_states[j]]\n",
    "                if new_horizontal_state == horizontal_state:\n",
    "                    result.append((i - len(pattern) + 1, j - len(pattern[0]) + 1))\n",
    "            else:\n",
    "                new_horizontal_state = 0\n",
    "    return result"
   ]
  },
  {
   "cell_type": "markdown",
   "id": "9316724a",
   "metadata": {},
   "source": [
    "__Exercise 2__\n",
    "\n",
    "Znajdź w załączonym pliku \"haystack.txt\" wszyskie sytuacje, gdy taka sama litera występuje na tej samej pozycji w dwóch kolejnych linijkach. Zwróć uwagę, na nierówną długość linii w pliku."
   ]
  },
  {
   "cell_type": "code",
   "execution_count": 7,
   "id": "57a14540",
   "metadata": {},
   "outputs": [],
   "source": [
    "with open(\"haystack.txt\") as f:\n",
    "    text = f.readlines()"
   ]
  },
  {
   "cell_type": "code",
   "execution_count": 8,
   "id": "fb706fd3",
   "metadata": {
    "scrolled": false
   },
   "outputs": [
    {
     "name": "stdout",
     "output_type": "stream",
     "text": [
      "PATTERN:\n",
      "['a', 'a']\n",
      "FOUND INDEXES:\n",
      "[(0, 82), (3, 30), (5, 60), (6, 63), (20, 6), (28, 69), (31, 50), (31, 73), (33, 66), (37, 4), (52, 12), (53, 12), (53, 48), (56, 11), (57, 36), (58, 36), (59, 24), (64, 2), (64, 14), (64, 22), (65, 35), (69, 35), (76, 21), (76, 74), (77, 42), (77, 61), (78, 59), (79, 37)]\n",
      "#############################################\n",
      "PATTERN:\n",
      "['b', 'b']\n",
      "FOUND INDEXES:\n",
      "[]\n",
      "#############################################\n",
      "PATTERN:\n",
      "['c', 'c']\n",
      "FOUND INDEXES:\n",
      "[(3, 54), (10, 45), (13, 10), (41, 0), (68, 0), (82, 41)]\n",
      "#############################################\n",
      "PATTERN:\n",
      "['d', 'd']\n",
      "FOUND INDEXES:\n",
      "[(37, 19)]\n",
      "#############################################\n",
      "PATTERN:\n",
      "['e', 'e']\n",
      "FOUND INDEXES:\n",
      "[(0, 63), (1, 8), (4, 77), (7, 65), (10, 1), (10, 64), (14, 2), (15, 43), (17, 6), (18, 27), (20, 10), (21, 61), (22, 53), (24, 3), (24, 65), (28, 67), (28, 73), (29, 38), (29, 43), (37, 48), (40, 11), (40, 26), (41, 57), (42, 36), (42, 48), (46, 52), (47, 50), (51, 31), (57, 54), (58, 50), (58, 54), (59, 73), (63, 66), (65, 69), (66, 72), (67, 17), (68, 46), (69, 15), (70, 49), (71, 38), (72, 23), (73, 27), (76, 6), (77, 6), (78, 65), (80, 6), (81, 14), (82, 47)]\n",
      "#############################################\n",
      "PATTERN:\n",
      "['f', 'f']\n",
      "FOUND INDEXES:\n",
      "[(30, 59), (77, 1)]\n",
      "#############################################\n",
      "PATTERN:\n",
      "['g', 'g']\n",
      "FOUND INDEXES:\n",
      "[]\n",
      "#############################################\n",
      "PATTERN:\n",
      "['h', 'h']\n",
      "FOUND INDEXES:\n",
      "[(27, 2), (37, 2), (56, 31), (73, 12)]\n",
      "#############################################\n",
      "PATTERN:\n",
      "['i', 'i']\n",
      "FOUND INDEXES:\n",
      "[(1, 5), (8, 37), (9, 60), (19, 55), (31, 0), (31, 31), (44, 33), (52, 69), (55, 17), (60, 45), (68, 51), (73, 13), (77, 13)]\n",
      "#############################################\n",
      "PATTERN:\n",
      "['j', 'j']\n",
      "FOUND INDEXES:\n",
      "[]\n",
      "#############################################\n",
      "PATTERN:\n",
      "['k', 'k']\n",
      "FOUND INDEXES:\n",
      "[]\n",
      "#############################################\n",
      "PATTERN:\n",
      "['l', 'l']\n",
      "FOUND INDEXES:\n",
      "[(28, 72), (33, 45), (41, 77), (46, 61), (53, 45)]\n",
      "#############################################\n",
      "PATTERN:\n",
      "['m', 'm']\n",
      "FOUND INDEXES:\n",
      "[(16, 5), (28, 70), (34, 40), (34, 60), (44, 0)]\n",
      "#############################################\n",
      "PATTERN:\n",
      "['n', 'n']\n",
      "FOUND INDEXES:\n",
      "[(0, 83), (1, 9), (14, 54), (19, 37), (20, 56), (21, 62), (31, 1), (35, 18), (51, 32), (54, 33), (56, 13), (64, 29), (67, 35), (67, 40), (67, 57)]\n",
      "#############################################\n",
      "PATTERN:\n",
      "['o', 'o']\n",
      "FOUND INDEXES:\n",
      "[(4, 75), (5, 66), (6, 38), (7, 38), (10, 27), (15, 60), (27, 17), (28, 17), (30, 58), (32, 34), (33, 11), (33, 26), (41, 1), (44, 55), (50, 2), (52, 8), (53, 1), (58, 45), (71, 42), (79, 10), (81, 52)]\n",
      "#############################################\n",
      "PATTERN:\n",
      "['p', 'p']\n",
      "FOUND INDEXES:\n",
      "[(28, 71), (41, 18)]\n",
      "#############################################\n",
      "PATTERN:\n",
      "['q', 'q']\n",
      "FOUND INDEXES:\n",
      "[]\n",
      "#############################################\n",
      "PATTERN:\n",
      "['r', 'r']\n",
      "FOUND INDEXES:\n",
      "[(1, 4), (6, 39), (6, 50), (7, 13), (15, 18), (17, 14), (19, 54), (20, 54), (28, 65), (31, 70), (33, 10), (33, 37), (43, 25), (46, 42), (47, 37), (52, 5), (55, 40), (60, 30), (62, 39), (67, 29), (69, 22)]\n",
      "#############################################\n",
      "PATTERN:\n",
      "['s', 's']\n",
      "FOUND INDEXES:\n",
      "[(3, 57), (3, 63), (4, 49), (8, 21), (9, 58), (28, 45), (29, 56), (30, 56), (37, 34), (40, 63), (45, 34), (46, 44), (49, 14), (52, 53), (54, 0), (67, 37), (70, 41), (71, 24), (79, 24)]\n",
      "#############################################\n",
      "PATTERN:\n",
      "['t', 't']\n",
      "FOUND INDEXES:\n",
      "[(0, 7), (1, 6), (1, 7), (3, 37), (4, 14), (4, 23), (7, 29), (8, 75), (13, 55), (15, 12), (16, 3), (19, 33), (22, 8), (23, 4), (24, 4), (27, 31), (28, 23), (28, 52), (30, 16), (35, 10), (37, 0), (41, 45), (41, 73), (46, 24), (50, 0), (51, 33), (52, 61), (54, 11), (55, 54), (58, 49), (58, 78), (59, 33), (59, 75), (61, 56), (67, 71), (69, 5), (71, 3), (72, 3), (72, 10), (72, 59), (77, 22)]\n",
      "#############################################\n",
      "PATTERN:\n",
      "['u', 'u']\n",
      "FOUND INDEXES:\n",
      "[]\n",
      "#############################################\n",
      "PATTERN:\n",
      "['v', 'v']\n",
      "FOUND INDEXES:\n",
      "[]\n",
      "#############################################\n",
      "PATTERN:\n",
      "['w', 'w']\n",
      "FOUND INDEXES:\n",
      "[(1, 3), (21, 70)]\n",
      "#############################################\n",
      "PATTERN:\n",
      "['x', 'x']\n",
      "FOUND INDEXES:\n",
      "[(28, 68)]\n",
      "#############################################\n",
      "PATTERN:\n",
      "['y', 'y']\n",
      "FOUND INDEXES:\n",
      "[(44, 5)]\n",
      "#############################################\n",
      "PATTERN:\n",
      "['z', 'z']\n",
      "FOUND INDEXES:\n",
      "[]\n",
      "#############################################\n"
     ]
    }
   ],
   "source": [
    "for i in range(ord(\"a\"), ord(\"z\") + 1):\n",
    "    pattern = [chr(i), chr(i)]\n",
    "    result = pattern_matching_2d(text, pattern)\n",
    "    print(f\"PATTERN:\\n{pattern}\")\n",
    "    print(f\"FOUND INDEXES:\\n{result}\")\n",
    "    print(\"#############################################\")"
   ]
  },
  {
   "cell_type": "markdown",
   "id": "8ee8f30b",
   "metadata": {},
   "source": [
    "__Exercise 3__\n",
    "\n",
    "Znajdź wszystkie wystąpienia \"th\" oraz \"t h\" w dwóch kolejnych liniach na tej samej pozycji."
   ]
  },
  {
   "cell_type": "code",
   "execution_count": 9,
   "id": "7bcb9501",
   "metadata": {},
   "outputs": [
    {
     "data": {
      "text/plain": [
       "[]"
      ]
     },
     "execution_count": 9,
     "metadata": {},
     "output_type": "execute_result"
    }
   ],
   "source": [
    "pattern = [\"th\", \"th\"]\n",
    "result = pattern_matching_2d(text, pattern)\n",
    "result"
   ]
  },
  {
   "cell_type": "code",
   "execution_count": 10,
   "id": "a323172a",
   "metadata": {},
   "outputs": [
    {
     "data": {
      "text/plain": [
       "[(37, 0)]"
      ]
     },
     "execution_count": 10,
     "metadata": {},
     "output_type": "execute_result"
    }
   ],
   "source": [
    "pattern = [\"t h\", \"t h\"]\n",
    "result = pattern_matching_2d(text, pattern)\n",
    "result"
   ]
  },
  {
   "cell_type": "markdown",
   "id": "c1d26d04",
   "metadata": {},
   "source": [
    "__Exercise 4__\n",
    "\n",
    "Wybierz przynajmniej 4 litery (małe). Znajdź wszystkie wystąpienia tej litery w załączonym pliku \"haystack.png\""
   ]
  },
  {
   "cell_type": "code",
   "execution_count": 11,
   "id": "310335f3",
   "metadata": {},
   "outputs": [],
   "source": [
    "def convert_image(file_name):\n",
    "    image = Image.open(file_name)\n",
    "    pixels = list(image.getdata())\n",
    "    width, height = image.size\n",
    "    text = []\n",
    "    i = width\n",
    "    for pixel in pixels:\n",
    "        if i == width:\n",
    "            i = 0\n",
    "            text.append([])\n",
    "        text[-1].append(pixel[0])\n",
    "        i += 1\n",
    "    return text"
   ]
  },
  {
   "cell_type": "code",
   "execution_count": 12,
   "id": "345bb995",
   "metadata": {},
   "outputs": [],
   "source": [
    "text = convert_image(\"haystack.png\")"
   ]
  },
  {
   "attachments": {
    "a.png": {
     "image/png": "[encoded data removed]"
    }
   },
   "cell_type": "markdown",
   "id": "f3a5eb8d",
   "metadata": {},
   "source": [
    "![a.png](attachment:a.png)"
   ]
  },
  {
   "cell_type": "code",
   "execution_count": 13,
   "id": "c8074ce6",
   "metadata": {
    "scrolled": true
   },
   "outputs": [
    {
     "data": {
      "text/plain": [
       "[[255, 255, 255, 255, 255, 255, 255, 255, 255, 255, 255],\n",
       " [255, 253, 177, 74, 25, 8, 45, 149, 255, 255, 255],\n",
       " [255, 203, 0, 0, 0, 0, 0, 0, 129, 255, 255],\n",
       " [255, 206, 87, 193, 236, 241, 186, 35, 10, 242, 255],\n",
       " [255, 255, 255, 255, 255, 255, 255, 175, 0, 188, 255],\n",
       " [255, 255, 159, 60, 16, 1, 0, 0, 0, 162, 255],\n",
       " [255, 138, 0, 0, 0, 0, 0, 0, 0, 155, 255],\n",
       " [255, 38, 23, 189, 238, 252, 255, 177, 0, 155, 255],\n",
       " [255, 38, 27, 201, 249, 238, 178, 31, 0, 155, 255],\n",
       " [255, 120, 0, 0, 0, 0, 0, 89, 0, 155, 255],\n",
       " [255, 249, 123, 31, 7, 41, 152, 199, 0, 155, 255],\n",
       " [255, 255, 255, 255, 255, 255, 255, 255, 255, 255, 255]]"
      ]
     },
     "execution_count": 13,
     "metadata": {},
     "output_type": "execute_result"
    }
   ],
   "source": [
    "a = convert_image(\"pictures/a.png\")\n",
    "a"
   ]
  },
  {
   "cell_type": "code",
   "execution_count": 14,
   "id": "4f7363d4",
   "metadata": {},
   "outputs": [
    {
     "name": "stdout",
     "output_type": "stream",
     "text": [
      "Liczba wystąpień a to: 356.\n"
     ]
    }
   ],
   "source": [
    "a_matched = pattern_matching_2d(text, a)\n",
    "print(f\"Liczba wystąpień a to: {len(a_matched)}.\")"
   ]
  },
  {
   "attachments": {
    "l.png": {
     "image/png": "[encoded data removed]"
    }
   },
   "cell_type": "markdown",
   "id": "e48fa7ee",
   "metadata": {},
   "source": [
    "![l.png](attachment:l.png)"
   ]
  },
  {
   "cell_type": "code",
   "execution_count": 15,
   "id": "c1f66d03",
   "metadata": {},
   "outputs": [
    {
     "data": {
      "text/plain": [
       "[[255, 255, 255, 255, 255],\n",
       " [255, 179, 0, 175, 255],\n",
       " [255, 179, 0, 175, 255],\n",
       " [255, 179, 0, 175, 255],\n",
       " [255, 179, 0, 175, 255],\n",
       " [255, 179, 0, 175, 255],\n",
       " [255, 179, 0, 175, 255],\n",
       " [255, 179, 0, 175, 255],\n",
       " [255, 179, 0, 175, 255],\n",
       " [255, 179, 0, 175, 255],\n",
       " [255, 179, 0, 175, 255],\n",
       " [255, 179, 0, 175, 255],\n",
       " [255, 179, 0, 175, 255],\n",
       " [255, 179, 0, 175, 255],\n",
       " [255, 179, 0, 175, 255],\n",
       " [255, 255, 255, 255, 255]]"
      ]
     },
     "execution_count": 15,
     "metadata": {},
     "output_type": "execute_result"
    }
   ],
   "source": [
    "l = convert_image(\"pictures/l.png\")\n",
    "l"
   ]
  },
  {
   "cell_type": "code",
   "execution_count": 16,
   "id": "0f570fbb",
   "metadata": {},
   "outputs": [
    {
     "name": "stdout",
     "output_type": "stream",
     "text": [
      "Liczba wystąpień l to: 169.\n"
     ]
    }
   ],
   "source": [
    "l_matched = pattern_matching_2d(text, l)\n",
    "print(f\"Liczba wystąpień l to: {len(l_matched)}.\")"
   ]
  },
  {
   "attachments": {
    "m.png": {
     "image/png": "[encoded data removed]"
    }
   },
   "cell_type": "markdown",
   "id": "e5d186bb",
   "metadata": {},
   "source": [
    "![m.png](attachment:m.png)"
   ]
  },
  {
   "cell_type": "code",
   "execution_count": 17,
   "id": "9089ded4",
   "metadata": {},
   "outputs": [
    {
     "data": {
      "text/plain": [
       "[[163, 0, 187, 151, 36, 9, 59, 209, 255, 208, 68, 11, 25, 135, 255],\n",
       " [163, 0, 86, 0, 0, 0, 0, 24, 209, 14, 0, 0, 0, 0, 171],\n",
       " [163, 0, 7, 153, 236, 232, 87, 0, 16, 85, 218, 244, 167, 2, 63],\n",
       " [163, 0, 121, 255, 255, 255, 225, 0, 31, 249, 255, 255, 255, 65, 23],\n",
       " [163, 0, 179, 255, 255, 255, 254, 0, 83, 255, 255, 255, 255, 94, 1],\n",
       " [163, 0, 187, 255, 255, 255, 255, 0, 91, 255, 255, 255, 255, 95, 0],\n",
       " [163, 0, 187, 255, 255, 255, 255, 0, 91, 255, 255, 255, 255, 95, 0],\n",
       " [163, 0, 187, 255, 255, 255, 255, 0, 91, 255, 255, 255, 255, 95, 0],\n",
       " [163, 0, 187, 255, 255, 255, 255, 0, 91, 255, 255, 255, 255, 95, 0],\n",
       " [163, 0, 187, 255, 255, 255, 255, 0, 91, 255, 255, 255, 255, 95, 0]]"
      ]
     },
     "execution_count": 17,
     "metadata": {},
     "output_type": "execute_result"
    }
   ],
   "source": [
    "m = convert_image(\"pictures/m.png\")\n",
    "m"
   ]
  },
  {
   "cell_type": "code",
   "execution_count": 18,
   "id": "fc7c2538",
   "metadata": {},
   "outputs": [
    {
     "name": "stdout",
     "output_type": "stream",
     "text": [
      "Liczba wystąpień m to: 131.\n"
     ]
    }
   ],
   "source": [
    "m_matched = pattern_matching_2d(text, m)\n",
    "print(f\"Liczba wystąpień m to: {len(m_matched)}.\")"
   ]
  },
  {
   "attachments": {
    "s.png": {
     "image/png": "[encoded data removed]"
    }
   },
   "cell_type": "markdown",
   "id": "30bb5baa",
   "metadata": {},
   "source": [
    "![s.png](attachment:s.png)"
   ]
  },
  {
   "cell_type": "code",
   "execution_count": 19,
   "id": "8f65cc38",
   "metadata": {},
   "outputs": [
    {
     "data": {
      "text/plain": [
       "[[249, 129, 40, 10, 25, 75, 194, 255],\n",
       " [107, 0, 0, 0, 0, 0, 7, 255],\n",
       " [28, 28, 196, 245, 235, 183, 70, 255],\n",
       " [48, 70, 255, 255, 255, 255, 255, 255],\n",
       " [194, 23, 46, 115, 166, 234, 255, 255],\n",
       " [255, 246, 181, 124, 71, 9, 110, 254],\n",
       " [255, 255, 255, 255, 255, 179, 0, 171],\n",
       " [58, 164, 220, 249, 228, 107, 0, 138],\n",
       " [0, 0, 0, 0, 0, 0, 9, 216],\n",
       " [198, 95, 35, 7, 28, 88, 208, 255]]"
      ]
     },
     "execution_count": 19,
     "metadata": {},
     "output_type": "execute_result"
    }
   ],
   "source": [
    "s = convert_image(\"pictures/s.png\")\n",
    "s"
   ]
  },
  {
   "cell_type": "code",
   "execution_count": 20,
   "id": "d67f26d7",
   "metadata": {},
   "outputs": [
    {
     "name": "stdout",
     "output_type": "stream",
     "text": [
      "Liczba wystąpień s to: 334.\n"
     ]
    }
   ],
   "source": [
    "s_matched = pattern_matching_2d(text, s)\n",
    "print(f\"Liczba wystąpień s to: {len(s_matched)}.\")"
   ]
  },
  {
   "cell_type": "markdown",
   "id": "d7048a07",
   "metadata": {},
   "source": [
    "__Exercise 5__\n",
    "\n",
    "Znajdź wszystkie wystąpienia słowa \"p a t t e r n\" w haystack.png."
   ]
  },
  {
   "attachments": {
    "pattern.png": {
     "image/png": "[encoded data removed]"
    }
   },
   "cell_type": "markdown",
   "id": "a353684d",
   "metadata": {},
   "source": [
    "![pattern.png](attachment:pattern.png)"
   ]
  },
  {
   "cell_type": "code",
   "execution_count": 21,
   "id": "58361c7f",
   "metadata": {
    "scrolled": false
   },
   "outputs": [
    {
     "name": "stdout",
     "output_type": "stream",
     "text": [
      "Liczba wystąpień pattern to: 5.\n"
     ]
    }
   ],
   "source": [
    "pattern = convert_image(\"pictures/pattern.png\")\n",
    "pattern_matched = pattern_matching_2d(text, pattern)\n",
    "print(f\"Liczba wystąpień pattern to: {len(pattern_matched)}.\")"
   ]
  },
  {
   "cell_type": "markdown",
   "id": "e1982922",
   "metadata": {},
   "source": [
    "__Exercise 6__\n",
    "\n",
    "Porównaj czas budowania automatu i czas wyszukiwania dla różnych rozmiarów wzorca"
   ]
  },
  {
   "cell_type": "code",
   "execution_count": 22,
   "id": "3530e9a1",
   "metadata": {},
   "outputs": [],
   "source": [
    "from time import perf_counter\n",
    "from random import randint"
   ]
  },
  {
   "cell_type": "code",
   "execution_count": 23,
   "id": "73bf6183",
   "metadata": {},
   "outputs": [],
   "source": [
    "with open(\"haystack.txt\") as f:\n",
    "    text = f.readlines()"
   ]
  },
  {
   "cell_type": "code",
   "execution_count": 24,
   "id": "14a8b1cd",
   "metadata": {},
   "outputs": [],
   "source": [
    "def building_times(text_size):\n",
    "    building_times = []\n",
    "    for i in text_size:\n",
    "        pattern = [[chr(randint(ord('a'), ord('z'))) for _ in range(i)] for _ in range(i)]\n",
    "        start = perf_counter()\n",
    "        main_automaton(pattern)\n",
    "        end = perf_counter()\n",
    "        building_times += [i, end - start]\n",
    "    df = pd.DataFrame(data={\"text size\": building_times[::2],\n",
    "                            \"building time [s]\": building_times[1::2]})\n",
    "    return df"
   ]
  },
  {
   "cell_type": "code",
   "execution_count": 25,
   "id": "f47a5d7f",
   "metadata": {},
   "outputs": [
    {
     "data": {
      "text/html": [
       "<div>\n",
       "<style scoped>\n",
       "    .dataframe tbody tr th:only-of-type {\n",
       "        vertical-align: middle;\n",
       "    }\n",
       "\n",
       "    .dataframe tbody tr th {\n",
       "        vertical-align: top;\n",
       "    }\n",
       "\n",
       "    .dataframe thead th {\n",
       "        text-align: right;\n",
       "    }\n",
       "</style>\n",
       "<table border=\"1\" class=\"dataframe\">\n",
       "  <thead>\n",
       "    <tr style=\"text-align: right;\">\n",
       "      <th></th>\n",
       "      <th>text size</th>\n",
       "      <th>building time [s]</th>\n",
       "    </tr>\n",
       "  </thead>\n",
       "  <tbody>\n",
       "    <tr>\n",
       "      <th>0</th>\n",
       "      <td>10</td>\n",
       "      <td>0.002510</td>\n",
       "    </tr>\n",
       "    <tr>\n",
       "      <th>1</th>\n",
       "      <td>30</td>\n",
       "      <td>0.046743</td>\n",
       "    </tr>\n",
       "    <tr>\n",
       "      <th>2</th>\n",
       "      <td>50</td>\n",
       "      <td>0.177500</td>\n",
       "    </tr>\n",
       "    <tr>\n",
       "      <th>3</th>\n",
       "      <td>70</td>\n",
       "      <td>0.477154</td>\n",
       "    </tr>\n",
       "    <tr>\n",
       "      <th>4</th>\n",
       "      <td>90</td>\n",
       "      <td>1.056525</td>\n",
       "    </tr>\n",
       "    <tr>\n",
       "      <th>5</th>\n",
       "      <td>110</td>\n",
       "      <td>1.863254</td>\n",
       "    </tr>\n",
       "    <tr>\n",
       "      <th>6</th>\n",
       "      <td>130</td>\n",
       "      <td>3.136854</td>\n",
       "    </tr>\n",
       "    <tr>\n",
       "      <th>7</th>\n",
       "      <td>150</td>\n",
       "      <td>4.957588</td>\n",
       "    </tr>\n",
       "    <tr>\n",
       "      <th>8</th>\n",
       "      <td>170</td>\n",
       "      <td>7.361527</td>\n",
       "    </tr>\n",
       "    <tr>\n",
       "      <th>9</th>\n",
       "      <td>190</td>\n",
       "      <td>10.530337</td>\n",
       "    </tr>\n",
       "    <tr>\n",
       "      <th>10</th>\n",
       "      <td>210</td>\n",
       "      <td>14.535006</td>\n",
       "    </tr>\n",
       "    <tr>\n",
       "      <th>11</th>\n",
       "      <td>230</td>\n",
       "      <td>19.587361</td>\n",
       "    </tr>\n",
       "    <tr>\n",
       "      <th>12</th>\n",
       "      <td>250</td>\n",
       "      <td>25.553010</td>\n",
       "    </tr>\n",
       "  </tbody>\n",
       "</table>\n",
       "</div>"
      ],
      "text/plain": [
       "    text size  building time [s]\n",
       "0          10           0.002510\n",
       "1          30           0.046743\n",
       "2          50           0.177500\n",
       "3          70           0.477154\n",
       "4          90           1.056525\n",
       "5         110           1.863254\n",
       "6         130           3.136854\n",
       "7         150           4.957588\n",
       "8         170           7.361527\n",
       "9         190          10.530337\n",
       "10        210          14.535006\n",
       "11        230          19.587361\n",
       "12        250          25.553010"
      ]
     },
     "execution_count": 25,
     "metadata": {},
     "output_type": "execute_result"
    }
   ],
   "source": [
    "text_size = [i for i in range(10, 260, 20)]\n",
    "df_1 = building_times(text_size)\n",
    "df_1"
   ]
  },
  {
   "cell_type": "code",
   "execution_count": 26,
   "id": "c24d18d8",
   "metadata": {},
   "outputs": [],
   "source": [
    "def searching_times(text, text_size, path_size):\n",
    "    pattern = [line[:path_size] for line in text[:path_size]]\n",
    "    automaton = main_automaton(pattern)\n",
    "    searching_times = []\n",
    "\n",
    "    for i in text_size:\n",
    "        text = [line[:i] for line in text[:i]]\n",
    "        start = perf_counter()\n",
    "        pattern_matching_2d(text, pattern, automaton)\n",
    "        end = perf_counter()\n",
    "        searching_times += [i, end - start]\n",
    "    df = pd.DataFrame(data={\"text size\": searching_times[::2],\n",
    "                            \"searching time [s]\": searching_times[1::2]})\n",
    "    return df"
   ]
  },
  {
   "cell_type": "code",
   "execution_count": 27,
   "id": "1340848b",
   "metadata": {},
   "outputs": [
    {
     "data": {
      "text/html": [
       "<div>\n",
       "<style scoped>\n",
       "    .dataframe tbody tr th:only-of-type {\n",
       "        vertical-align: middle;\n",
       "    }\n",
       "\n",
       "    .dataframe tbody tr th {\n",
       "        vertical-align: top;\n",
       "    }\n",
       "\n",
       "    .dataframe thead th {\n",
       "        text-align: right;\n",
       "    }\n",
       "</style>\n",
       "<table border=\"1\" class=\"dataframe\">\n",
       "  <thead>\n",
       "    <tr style=\"text-align: right;\">\n",
       "      <th></th>\n",
       "      <th>text size</th>\n",
       "      <th>searching time [s]</th>\n",
       "    </tr>\n",
       "  </thead>\n",
       "  <tbody>\n",
       "    <tr>\n",
       "      <th>0</th>\n",
       "      <td>500</td>\n",
       "      <td>0.067165</td>\n",
       "    </tr>\n",
       "    <tr>\n",
       "      <th>1</th>\n",
       "      <td>1000</td>\n",
       "      <td>0.061193</td>\n",
       "    </tr>\n",
       "    <tr>\n",
       "      <th>2</th>\n",
       "      <td>1500</td>\n",
       "      <td>0.063023</td>\n",
       "    </tr>\n",
       "    <tr>\n",
       "      <th>3</th>\n",
       "      <td>2000</td>\n",
       "      <td>0.058339</td>\n",
       "    </tr>\n",
       "    <tr>\n",
       "      <th>4</th>\n",
       "      <td>2500</td>\n",
       "      <td>0.058512</td>\n",
       "    </tr>\n",
       "    <tr>\n",
       "      <th>5</th>\n",
       "      <td>3000</td>\n",
       "      <td>0.058340</td>\n",
       "    </tr>\n",
       "    <tr>\n",
       "      <th>6</th>\n",
       "      <td>3500</td>\n",
       "      <td>0.058099</td>\n",
       "    </tr>\n",
       "    <tr>\n",
       "      <th>7</th>\n",
       "      <td>4000</td>\n",
       "      <td>0.063418</td>\n",
       "    </tr>\n",
       "    <tr>\n",
       "      <th>8</th>\n",
       "      <td>4500</td>\n",
       "      <td>0.062535</td>\n",
       "    </tr>\n",
       "    <tr>\n",
       "      <th>9</th>\n",
       "      <td>5000</td>\n",
       "      <td>0.066019</td>\n",
       "    </tr>\n",
       "    <tr>\n",
       "      <th>10</th>\n",
       "      <td>5500</td>\n",
       "      <td>0.058644</td>\n",
       "    </tr>\n",
       "    <tr>\n",
       "      <th>11</th>\n",
       "      <td>6000</td>\n",
       "      <td>0.058324</td>\n",
       "    </tr>\n",
       "    <tr>\n",
       "      <th>12</th>\n",
       "      <td>6500</td>\n",
       "      <td>0.061279</td>\n",
       "    </tr>\n",
       "    <tr>\n",
       "      <th>13</th>\n",
       "      <td>7000</td>\n",
       "      <td>0.058621</td>\n",
       "    </tr>\n",
       "    <tr>\n",
       "      <th>14</th>\n",
       "      <td>7500</td>\n",
       "      <td>0.057964</td>\n",
       "    </tr>\n",
       "    <tr>\n",
       "      <th>15</th>\n",
       "      <td>8000</td>\n",
       "      <td>0.064707</td>\n",
       "    </tr>\n",
       "    <tr>\n",
       "      <th>16</th>\n",
       "      <td>8500</td>\n",
       "      <td>0.057723</td>\n",
       "    </tr>\n",
       "    <tr>\n",
       "      <th>17</th>\n",
       "      <td>9000</td>\n",
       "      <td>0.064268</td>\n",
       "    </tr>\n",
       "    <tr>\n",
       "      <th>18</th>\n",
       "      <td>9500</td>\n",
       "      <td>0.069962</td>\n",
       "    </tr>\n",
       "    <tr>\n",
       "      <th>19</th>\n",
       "      <td>10000</td>\n",
       "      <td>0.057642</td>\n",
       "    </tr>\n",
       "  </tbody>\n",
       "</table>\n",
       "</div>"
      ],
      "text/plain": [
       "    text size  searching time [s]\n",
       "0         500            0.067165\n",
       "1        1000            0.061193\n",
       "2        1500            0.063023\n",
       "3        2000            0.058339\n",
       "4        2500            0.058512\n",
       "5        3000            0.058340\n",
       "6        3500            0.058099\n",
       "7        4000            0.063418\n",
       "8        4500            0.062535\n",
       "9        5000            0.066019\n",
       "10       5500            0.058644\n",
       "11       6000            0.058324\n",
       "12       6500            0.061279\n",
       "13       7000            0.058621\n",
       "14       7500            0.057964\n",
       "15       8000            0.064707\n",
       "16       8500            0.057723\n",
       "17       9000            0.064268\n",
       "18       9500            0.069962\n",
       "19      10000            0.057642"
      ]
     },
     "execution_count": 27,
     "metadata": {},
     "output_type": "execute_result"
    }
   ],
   "source": [
    "text = convert_image(\"haystack.png\")\n",
    "text_size = [i for i in range(500, 10001, 500)]\n",
    "path_size = 25\n",
    "df_2 = searching_times(text, text_size, path_size)\n",
    "df_2"
   ]
  },
  {
   "cell_type": "markdown",
   "id": "7db9664a",
   "metadata": {},
   "source": [
    "__Exercise 7__\n",
    "\n",
    "Podziel plik na 2, 4 i 8 fragmentów (w poziomie) i porównaj czas przeszukiwania"
   ]
  },
  {
   "cell_type": "code",
   "execution_count": 28,
   "id": "19a46703",
   "metadata": {},
   "outputs": [],
   "source": [
    "from time import perf_counter"
   ]
  },
  {
   "cell_type": "code",
   "execution_count": 29,
   "id": "833951b7",
   "metadata": {},
   "outputs": [],
   "source": [
    "def divide_and_measure(text, path_size):\n",
    "    pattern = [line[:path_size] for line in text[:path_size]]\n",
    "    result = []\n",
    "\n",
    "    for div in [2, 4, 8]:\n",
    "        length = len(text) // div\n",
    "        intervals = [text[i * length:(i + 1) * length] for i in range(div)]\n",
    "        start = perf_counter()\n",
    "        for i in intervals:\n",
    "            pattern_matching_2d(i, pattern)\n",
    "        end = perf_counter()\n",
    "        result += [div, end - start]\n",
    "    df = pd.DataFrame(data={\"part\": result[::2],\n",
    "                            \"time [s]\": result[1::2]})\n",
    "    return df"
   ]
  },
  {
   "cell_type": "code",
   "execution_count": 30,
   "id": "96b648af",
   "metadata": {},
   "outputs": [
    {
     "data": {
      "text/html": [
       "<div>\n",
       "<style scoped>\n",
       "    .dataframe tbody tr th:only-of-type {\n",
       "        vertical-align: middle;\n",
       "    }\n",
       "\n",
       "    .dataframe tbody tr th {\n",
       "        vertical-align: top;\n",
       "    }\n",
       "\n",
       "    .dataframe thead th {\n",
       "        text-align: right;\n",
       "    }\n",
       "</style>\n",
       "<table border=\"1\" class=\"dataframe\">\n",
       "  <thead>\n",
       "    <tr style=\"text-align: right;\">\n",
       "      <th></th>\n",
       "      <th>part</th>\n",
       "      <th>time [s]</th>\n",
       "    </tr>\n",
       "  </thead>\n",
       "  <tbody>\n",
       "    <tr>\n",
       "      <th>0</th>\n",
       "      <td>2</td>\n",
       "      <td>0.466174</td>\n",
       "    </tr>\n",
       "    <tr>\n",
       "      <th>1</th>\n",
       "      <td>4</td>\n",
       "      <td>0.435927</td>\n",
       "    </tr>\n",
       "    <tr>\n",
       "      <th>2</th>\n",
       "      <td>8</td>\n",
       "      <td>0.435606</td>\n",
       "    </tr>\n",
       "  </tbody>\n",
       "</table>\n",
       "</div>"
      ],
      "text/plain": [
       "   part  time [s]\n",
       "0     2  0.466174\n",
       "1     4  0.435927\n",
       "2     8  0.435606"
      ]
     },
     "execution_count": 30,
     "metadata": {},
     "output_type": "execute_result"
    }
   ],
   "source": [
    "path_size = 25\n",
    "df_3 = divide_and_measure(text, path_size)\n",
    "df_3"
   ]
  }
 ],
 "metadata": {
  "kernelspec": {
   "display_name": "Python 3 (ipykernel)",
   "language": "python",
   "name": "python3"
  },
  "language_info": {
   "codemirror_mode": {
    "name": "ipython",
    "version": 3
   },
   "file_extension": ".py",
   "mimetype": "text/x-python",
   "name": "python",
   "nbconvert_exporter": "python",
   "pygments_lexer": "ipython3",
   "version": "3.8.10"
  }
 },
 "nbformat": 4,
 "nbformat_minor": 5
}
