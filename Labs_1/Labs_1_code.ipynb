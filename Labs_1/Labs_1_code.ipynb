{
 "cells": [
  {
   "cell_type": "markdown",
   "metadata": {},
   "source": [
    "# Pattern matching exercise"
   ]
  },
  {
   "cell_type": "markdown",
   "metadata": {},
   "source": [
    "## 1. Zaimplementuj algorytmy wyszukiwania wzorców:"
   ]
  },
  {
   "cell_type": "markdown",
   "metadata": {},
   "source": [
    "---\n",
    "### a) Naive algorithm"
   ]
  },
  {
   "cell_type": "code",
   "execution_count": 1,
   "metadata": {},
   "outputs": [],
   "source": [
    "def naive_string_matching(text, pattern):\n",
    "    txt_len, pat_len = len(text), len(pattern)\n",
    "    result = []\n",
    "    for s in range(txt_len - pat_len + 1):\n",
    "        if pattern == text[s:s+pat_len]:\n",
    "            result.append(s)\n",
    "    return result"
   ]
  },
  {
   "cell_type": "markdown",
   "metadata": {},
   "source": [
    "---\n",
    "### b) Finite automation algorithm"
   ]
  },
  {
   "cell_type": "code",
   "execution_count": 2,
   "metadata": {},
   "outputs": [],
   "source": [
    "def transition_table(pattern):\n",
    "    alphabet = set(pattern)\n",
    "    ptt_len = len(pattern)\n",
    "    result = []\n",
    "    for q in range(ptt_len+1):\n",
    "        result.append({})\n",
    "        for l in alphabet:\n",
    "            k = min(len(pattern), q+1)\n",
    "            while True:\n",
    "                if k == 0 or pattern[:k] == (pattern[:q] + l)[-k:]:\n",
    "                    break\n",
    "                k -= 1\n",
    "            result[q][l] = k\n",
    "    return result            "
   ]
  },
  {
   "cell_type": "code",
   "execution_count": 3,
   "metadata": {},
   "outputs": [],
   "source": [
    "def fa_string_matching(text, pattern):\n",
    "    q = 0\n",
    "    delta = transition_table(pattern)\n",
    "    txt_len = len(text)\n",
    "    result = []\n",
    "    for s in range(txt_len):\n",
    "        if text[s] in delta[q]:\n",
    "            q = delta[q][text[s]]\n",
    "            if q == len(delta) - 1:\n",
    "                result.append(s+1-q)\n",
    "        else:\n",
    "            q = 0\n",
    "    return result"
   ]
  },
  {
   "cell_type": "markdown",
   "metadata": {},
   "source": [
    "---\n",
    "### c) KMP (Knuth–Morris–Pratt) algorithm"
   ]
  },
  {
   "cell_type": "code",
   "execution_count": 4,
   "metadata": {},
   "outputs": [],
   "source": [
    "def prefix_function(pattern):\n",
    "    pat_len = len(pattern)\n",
    "    pi = [0]\n",
    "    k = 0\n",
    "    for q in range(1, pat_len):\n",
    "        while k > 0 and pattern[k] != pattern[q]:\n",
    "            k = pi[k-1]\n",
    "        if pattern[k] == pattern[q]:\n",
    "            k += 1\n",
    "        pi.append(k)\n",
    "    return pi"
   ]
  },
  {
   "cell_type": "code",
   "execution_count": 5,
   "metadata": {},
   "outputs": [],
   "source": [
    "def kmp_string_matching(text, pattern):\n",
    "    txt_len, pat_len = len(text), len(pattern)\n",
    "    pi = prefix_function(pattern)\n",
    "    q = 0\n",
    "    result = []\n",
    "    for i in range(txt_len):\n",
    "        while q > 0 and pattern[q] != text[i]:\n",
    "            q = pi[q-1]\n",
    "        if pattern[q] == text[i]:\n",
    "            q += 1\n",
    "        if q == pat_len:\n",
    "            result.append(i - q + 1)\n",
    "            q = pi[q-1]\n",
    "    return result"
   ]
  },
  {
   "cell_type": "markdown",
   "metadata": {},
   "source": [
    "---\n",
    "## 2. Zaimplementuj testy porównujące szybkość działania wyżej wymienionych algorytmów."
   ]
  },
  {
   "cell_type": "code",
   "execution_count": 6,
   "metadata": {},
   "outputs": [],
   "source": [
    "from time import perf_counter"
   ]
  },
  {
   "cell_type": "code",
   "execution_count": 7,
   "metadata": {},
   "outputs": [],
   "source": [
    "def calculate_time(algorithm, text, pattern):\n",
    "    start = perf_counter()\n",
    "    algorithm(text, pattern)\n",
    "    end = perf_counter()\n",
    "    print(f\"Execution of {algorithm.__name__} is {end - start}\")"
   ]
  },
  {
   "cell_type": "code",
   "execution_count": 8,
   "metadata": {},
   "outputs": [],
   "source": [
    "def compare_time_speed(text, pattern):\n",
    "    print(\"*** NAIVE ALGORITHM ***\")\n",
    "    calculate_time(naive_string_matching, text, pattern)\n",
    "    \n",
    "    print(\"*** FA ALGORITHM ***\")\n",
    "    calculate_time(fa_string_matching, text, pattern)\n",
    "    \n",
    "    print(\"*** KMP ALGORITHM ***\")\n",
    "    calculate_time(kmp_string_matching, text, pattern)"
   ]
  },
  {
   "cell_type": "markdown",
   "metadata": {},
   "source": [
    "## 3. Znajdź wszystkie wystąpienia wzorca \"art\" w załączonej `ustawie` (1997_714.txt), za pomocą każdego algorytmu."
   ]
  },
  {
   "cell_type": "code",
   "execution_count": 9,
   "metadata": {},
   "outputs": [],
   "source": [
    "from io import open"
   ]
  },
  {
   "cell_type": "code",
   "execution_count": 10,
   "metadata": {},
   "outputs": [],
   "source": [
    "def find_art_in_law(file_name, pattern):\n",
    "    with open(file_name) as file:\n",
    "        text = file.read()\n",
    "        \n",
    "        # naive algorithm\n",
    "        result = naive_string_matching(text, pattern)\n",
    "        print(\"*** Naive algorithm ***\")\n",
    "        print(f\"Number of patterns: {len(result)}\")\n",
    "        print(f\"First 10 matches: {result[:10]}\")\n",
    "        \n",
    "        # fa algorithm\n",
    "        result = fa_string_matching(text, pattern)\n",
    "        print(\"*** Fa algorithm ***\")\n",
    "        print(f\"Number of patterns: {len(result)}\")\n",
    "        print(f\"First 10 matches: {result[:10]}\")\n",
    "        \n",
    "        # kmp algorithm\n",
    "        result = kmp_string_matching(text, pattern)\n",
    "        print(\"*** Kmp algorithm ***\")\n",
    "        print(f\"Number of patterns: {len(result)}\")\n",
    "        print(f\"First 10 matches: {result[:10]}\")"
   ]
  },
  {
   "cell_type": "code",
   "execution_count": 11,
   "metadata": {},
   "outputs": [
    {
     "name": "stdout",
     "output_type": "stream",
     "text": [
      "*** Naive algorithm ***\n",
      "Number of patterns: 273\n",
      "First 10 matches: [1156, 1505, 4692, 4734, 4879, 5082, 5148, 5949, 6039, 7266]\n",
      "*** Fa algorithm ***\n",
      "Number of patterns: 273\n",
      "First 10 matches: [1156, 1505, 4692, 4734, 4879, 5082, 5148, 5949, 6039, 7266]\n",
      "*** Kmp algorithm ***\n",
      "Number of patterns: 273\n",
      "First 10 matches: [1156, 1505, 4692, 4734, 4879, 5082, 5148, 5949, 6039, 7266]\n"
     ]
    }
   ],
   "source": [
    "find_art_in_law(\"1997_714.txt\", \"art\")"
   ]
  },
  {
   "cell_type": "markdown",
   "metadata": {},
   "source": [
    "## 4. Porównaj szybkość działania algorytmów dla problemu z p. 3."
   ]
  },
  {
   "cell_type": "code",
   "execution_count": 12,
   "metadata": {},
   "outputs": [],
   "source": [
    "def time_comparison(file_name, pattern):\n",
    "    with open(file_name) as file:\n",
    "        compare_time_speed(file.read(), pattern)"
   ]
  },
  {
   "cell_type": "code",
   "execution_count": 13,
   "metadata": {},
   "outputs": [
    {
     "name": "stdout",
     "output_type": "stream",
     "text": [
      "*** NAIVE ALGORITHM ***\n",
      "Execution of naive_string_matching is 0.03607633600040572\n",
      "*** FA ALGORITHM ***\n",
      "Execution of fa_string_matching is 0.020469135999519494\n",
      "*** KMP ALGORITHM ***\n",
      "Execution of kmp_string_matching is 0.02616500099975383\n"
     ]
    }
   ],
   "source": [
    "time_comparison(\"1997_714.txt\", \"art\")"
   ]
  },
  {
   "cell_type": "markdown",
   "metadata": {},
   "source": [
    "## 5. Porównaj szybkość działania algorytmów poprzez wyszukanie słowa \"Ukraina\" we fragmencie polskiej Wikipedii"
   ]
  },
  {
   "cell_type": "code",
   "execution_count": 14,
   "metadata": {},
   "outputs": [
    {
     "name": "stdout",
     "output_type": "stream",
     "text": [
      "*** NAIVE ALGORITHM ***\n",
      "Execution of naive_string_matching is 9.843673806999504\n",
      "*** FA ALGORITHM ***\n",
      "Execution of fa_string_matching is 8.22091893599918\n",
      "*** KMP ALGORITHM ***\n",
      "Execution of kmp_string_matching is 7.9474486110002545\n"
     ]
    }
   ],
   "source": [
    "time_comparison(\"passages-head.tsv\", \"Ukraina\")"
   ]
  },
  {
   "cell_type": "markdown",
   "metadata": {},
   "source": [
    "## 6. Zaproponuj tekst oraz wzorzec, dla którego zmierzony czas działania algorytmów 2 oraz 3 (uwzględniający tylko dopasowanie, bez pre-processingu) będzie co najmniej 5-krotnie krótszy niż dla algorytmu naiwnego."
   ]
  },
  {
   "cell_type": "code",
   "execution_count": 15,
   "metadata": {},
   "outputs": [],
   "source": [
    "example_text = \"aaa\" * 10000000\n",
    "example_pattern = \"a\"*100000"
   ]
  },
  {
   "cell_type": "code",
   "execution_count": 16,
   "metadata": {},
   "outputs": [
    {
     "name": "stdout",
     "output_type": "stream",
     "text": [
      "*** NAIVE ALGORITHM ***\n",
      "Execution of naive_string_matching is 186.1548039900008\n",
      "*** FA ALGORITHM ***\n",
      "Execution of fa_string_matching is 8.319026199999826\n",
      "*** KMP ALGORITHM ***\n",
      "Execution of kmp_string_matching is 8.533083563999753\n"
     ]
    }
   ],
   "source": [
    "compare_time_speed(example_text, example_pattern)"
   ]
  },
  {
   "cell_type": "markdown",
   "metadata": {},
   "source": [
    "## 7. Zaproponuj wzorzec, dla którego zmierzony czas obliczenia tablicy przejścia automatu skończonego będzie co najmniej 5-krotnie dłuższy, niż czas potrzebny na utworzenie funkcji przejścia w algorytmie KMP."
   ]
  },
  {
   "cell_type": "code",
   "execution_count": 17,
   "metadata": {},
   "outputs": [],
   "source": [
    "def preprocessing_time_fa(pattern):\n",
    "    start = perf_counter()\n",
    "    transition_table(pattern)\n",
    "    end = perf_counter()\n",
    "    return end - start"
   ]
  },
  {
   "cell_type": "code",
   "execution_count": 18,
   "metadata": {},
   "outputs": [],
   "source": [
    "def preprocessing_time_kmp(pattern):\n",
    "    start = perf_counter()\n",
    "    prefix_function(pattern)\n",
    "    end = perf_counter()\n",
    "    return end - start"
   ]
  },
  {
   "cell_type": "code",
   "execution_count": 21,
   "metadata": {},
   "outputs": [],
   "source": [
    "prepr_pattern = \"qwertyuiopasdfghjkl\" * 100"
   ]
  },
  {
   "cell_type": "code",
   "execution_count": 22,
   "metadata": {},
   "outputs": [
    {
     "name": "stdout",
     "output_type": "stream",
     "text": [
      "fa preprocessing time: 13.588084934000108\n",
      "kmp preprocessing time: 0.0003272740004831576\n",
      "kmp preprocessing time is 5 times faster than fa preprocessing time\n"
     ]
    }
   ],
   "source": [
    "prepr_time_fa = preprocessing_time_fa(prepr_pattern)\n",
    "prepr_time_kmp = preprocessing_time_kmp(prepr_pattern)\n",
    "\n",
    "print(f\"fa preprocessing time: {preprocessing_time_fa(prepr_pattern)}\")\n",
    "print(f\"kmp preprocessing time: {preprocessing_time_kmp(prepr_pattern)}\")\n",
    "\n",
    "if prepr_time_fa/prepr_time_kmp > 5:\n",
    "    print(\"kmp preprocessing time is 5 times faster than fa preprocessing time\")\n",
    "else:\n",
    "    print(\"kmp preprocessing time is not 5 times faster than fa preprocessing time\")"
   ]
  }
 ],
 "metadata": {
  "kernelspec": {
   "display_name": "Python 3",
   "language": "python",
   "name": "python3"
  },
  "language_info": {
   "codemirror_mode": {
    "name": "ipython",
    "version": 3
   },
   "file_extension": ".py",
   "mimetype": "text/x-python",
   "name": "python",
   "nbconvert_exporter": "python",
   "pygments_lexer": "ipython3",
   "version": "3.8.10"
  }
 },
 "nbformat": 4,
 "nbformat_minor": 4
}
